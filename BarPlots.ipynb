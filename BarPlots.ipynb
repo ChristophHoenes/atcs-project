{
 "cells": [
  {
   "cell_type": "code",
   "execution_count": 75,
   "metadata": {},
   "outputs": [],
   "source": [
    "#%matplotlib inline"
   ]
  },
  {
   "cell_type": "code",
   "execution_count": 87,
   "metadata": {},
   "outputs": [
    {
     "data": {
      "text/plain": [
       "[<matplotlib.lines.Line2D at 0x1d782328748>]"
      ]
     },
     "execution_count": 87,
     "metadata": {},
     "output_type": "execute_result"
    },
    {
     "data": {
      "image/png": "[encoded data removed]",
      "text/plain": [
       "<Figure size 529.975x432 with 1 Axes>"
      ]
     },
     "metadata": {},
     "output_type": "display_data"
    }
   ],
   "source": [
    "import seaborn as sns\n",
    "import matplotlib\n",
    "from matplotlib import pyplot as plt\n",
    "import numpy as np\n",
    "import pandas as pd\n",
    "\n",
    "d = {}\n",
    "d[\"models\"] = [\"MTL\", \"ProtoNet\", \"ProtoMAML\", \"MTL\", \"ProtoNet\", \"ProtoMAML\", \"MTL\", \"ProtoNet\", \"ProtoMAML\", \"MTL\", \"ProtoNet\", \"ProtoMAML\"]\n",
    "d[\"datasets\"] = [\"IronyA\", \"IronyA\", \"IronyA\", \"IronyB\", \"IronyB\", \"IronyB\", \"Abuse\", \"Abuse\", \"Abuse\", \"Politeness\", \"Politeness\", \"Politeness\"]\n",
    "d[\"accuracy\"] = [0.7,0.6,0.5, 0.3,0.2,0.1, 0.4,0.45,0.37, 0.65,0.64,0.69]\n",
    "d[\"yerr\"] = [0.07,0.16,0.05, 0.13,0.02,0.11, 0.04,0.145,0.037, 0.065,0.064,0.069]\n",
    "df = pd.DataFrame(data=d)\n",
    "\n",
    "sns.set(style=\"whitegrid\")\n",
    "\n",
    "# Load the example Titanic dataset\n",
    "#titanic = sns.load_dataset(\"titanic\")\n",
    "#print(titanic)\n",
    "\n",
    "# Draw a nested barplot to show survival for class and sex\n",
    "#g = sns.catplot(x=\"class\", y=\"survived\", hue=\"sex\", data=titanic,\n",
    "#                height=6, kind=\"bar\", palette=\"muted\")\n",
    "g = sns.catplot(x=\"datasets\", y=\"accuracy\", hue=\"models\", data=df,\n",
    "                height=6, kind=\"bar\", palette=\"muted\")\n",
    "#g = sns.barplot(x=\"datasets\", y=\"accuracy\", hue=\"models\", data=df)#,\n",
    "#                #height=6, kind=\"bar\", palette=\"muted\")\n",
    "g.despine(left=True)\n",
    "g.set_ylabels(\"8-shot accuracy\")\n",
    "g.set_xlabels(\"Tasks\")\n",
    "x_bar_pos = [-0.257,0.01,0.267, 0.75,1,1.25, 1.75,2,2.27, 2.735,3,3.275]\n",
    "#for c in g.get_children():\n",
    "#    if type(c) == matplotlib.patches.Rectangle:\n",
    "#        x_bar_pos.append(c.get_extents()[0])\n",
    "#print(x_bar_pos.pop())\n",
    "#d[\"accuracy\"] = [0.7,0.6,0.5, 0.3,0.2,0.1, 0.4,0.45,0.37, 0.65,0.64,0.69]\n",
    "plt.errorbar(x=x_bar_pos,y=df['accuracy'],\n",
    "            yerr=df[\"yerr\"], fmt='none', c='black')\n",
    "\n",
    "x_1 = [-0.5,0.5]\n",
    "y_1 = [0.76, 0.76]\n",
    "plt.plot(x_1, y_1, color='red', linestyle='dashed')\n",
    "\n",
    "x_2 = [0.5,1.5]\n",
    "y_2 = [0.43, 0.43]\n",
    "plt.plot(x_2, y_2, color='red', linestyle='dashed')\n",
    "\n",
    "x_3 = [1.5,2.5]\n",
    "y_3 = [0.51, 0.51]\n",
    "plt.plot(x_3, y_3, color='red', linestyle='dashed')\n",
    "\n",
    "x_4 = [2.5,3.5]\n",
    "y_4 = [0.74, 0.74]\n",
    "plt.plot(x_4, y_4, color='red', linestyle='dashed')\n",
    "#print()"
   ]
  },
  {
   "cell_type": "code",
   "execution_count": null,
   "metadata": {},
   "outputs": [],
   "source": []
  }
 ],
 "metadata": {
  "kernelspec": {
   "display_name": "Python 3",
   "language": "python",
   "name": "python3"
  },
  "language_info": {
   "codemirror_mode": {
    "name": "ipython",
    "version": 3
   },
   "file_extension": ".py",
   "mimetype": "text/x-python",
   "name": "python",
   "nbconvert_exporter": "python",
   "pygments_lexer": "ipython3",
   "version": "3.7.4"
  }
 },
 "nbformat": 4,
 "nbformat_minor": 2
}
